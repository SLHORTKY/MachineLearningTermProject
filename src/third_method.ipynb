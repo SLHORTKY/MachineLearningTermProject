{
 "cells": [
  {
   "cell_type": "code",
   "execution_count": 1,
   "metadata": {},
   "outputs": [],
   "source": [
    "from sklearn.feature_extraction.text import TfidfVectorizer, CountVectorizer\n",
    "from sklearn.neighbors import NearestNeighbors\n",
    "from sklearn.cluster import KMeans\n",
    "from sklearn.metrics import adjusted_rand_score"
   ]
  },
  {
   "cell_type": "code",
   "execution_count": 2,
   "metadata": {},
   "outputs": [
    {
     "name": "stderr",
     "output_type": "stream",
     "text": [
      "C:\\Users\\Salih\\AppData\\Local\\Temp\\ipykernel_8844\\1238531442.py:3: DeprecationWarning: \n",
      "Pyarrow will become a required dependency of pandas in the next major release of pandas (pandas 3.0),\n",
      "(to allow more performant data types, such as the Arrow string type, and better interoperability with other libraries)\n",
      "but was not found to be installed on your system.\n",
      "If this would cause problems for you,\n",
      "please provide us feedback at https://github.com/pandas-dev/pandas/issues/54466\n",
      "        \n",
      "  import pandas as pd\n"
     ]
    }
   ],
   "source": [
    "import os \n",
    "import sys\n",
    "import pandas as pd\n",
    "import matplotlib.pyplot as plt\n",
    "\n"
   ]
  },
  {
   "cell_type": "code",
   "execution_count": 3,
   "metadata": {},
   "outputs": [],
   "source": [
    "python_executable = os.path.abspath(sys.executable)\n",
    "venv_parent_dir = os.path.dirname(os.path.dirname(python_executable))\n",
    "\n",
    "\n",
    "data_path = \"../Data2/products.csv\"\n",
    "df = pd.read_csv(data_path)"
   ]
  },
  {
   "cell_type": "code",
   "execution_count": 4,
   "metadata": {},
   "outputs": [
    {
     "data": {
      "text/plain": [
       "0    Not only do angles make joints stronger, they ...\n",
       "1    BEHR Premium Textured DECKOVER is an innovativ...\n",
       "2    Classic architecture meets contemporary design...\n",
       "3    The Grape Solar 265-Watt Polycrystalline PV So...\n",
       "4    Update your bathroom with the Delta Vero Singl...\n",
       "5    Achieving delicious results is almost effortle...\n",
       "6    The Quantum Adjustable 2-Light LED Black Emerg...\n",
       "7    The Teks #10 x 1-1/2 in. Zinc-Plated Steel Was...\n",
       "8    Get the House of Fara 3/4 in. x 3 in. x 8 ft. ...\n",
       "9    Valley View Industries Metal Stakes (4-Pack) a...\n",
       "Name: product_description, dtype: object"
      ]
     },
     "execution_count": 4,
     "metadata": {},
     "output_type": "execute_result"
    }
   ],
   "source": [
    "products_df = df.dropna()\n",
    "\n",
    "products_df_sample = products_df.head(500)\n",
    "\n",
    "products_df_sample[\"product_description\"].head(10)"
   ]
  },
  {
   "cell_type": "code",
   "execution_count": 5,
   "metadata": {},
   "outputs": [
    {
     "data": {
      "image/png": "[encoded data removed]",
      "text/plain": [
       "<Figure size 640x480 with 1 Axes>"
      ]
     },
     "metadata": {},
     "output_type": "display_data"
    }
   ],
   "source": [
    "vectorizer = TfidfVectorizer(stop_words='english')\n",
    "X = vectorizer.fit_transform(products_df_sample[\"product_description\"])\n",
    "\n",
    "kmeans = KMeans(n_clusters = 10, init = 'k-means++')\n",
    "y_kmeans = kmeans.fit_predict(X)\n",
    "\n",
    "plt.plot(y_kmeans, \".\")\n",
    "plt.xlabel(\"numerical repr of product description\")\n",
    "plt.ylabel(\"clustering levels\")\n",
    "plt.title(\"Data Cluster KNN\")\n",
    "plt.show()"
   ]
  },
  {
   "cell_type": "code",
   "execution_count": 6,
   "metadata": {},
   "outputs": [
    {
     "name": "stdout",
     "output_type": "stream",
     "text": [
      "Top terms per cluster:\n",
      "Cluster 0:\n",
      " water\n",
      " shower\n",
      " filter\n",
      " head\n",
      " watering\n",
      " helps\n",
      " ants\n",
      " sprinkler\n",
      " grill\n",
      " easy\n",
      "Cluster 1:\n",
      " cycle\n",
      " wash\n",
      " steam\n",
      " away\n",
      " easy\n",
      " dryer\n",
      " cleaning\n",
      " power\n",
      " technology\n",
      " motor\n",
      "Cluster 2:\n",
      " ft\n",
      " post\n",
      " painted\n",
      " moulding\n",
      " fence\n",
      " rail\n",
      " primed\n",
      " piece\n",
      " rug\n",
      " vary\n",
      "Cluster 3:\n",
      " sheet\n",
      " metal\n",
      " design\n",
      " cut\n",
      " cabinet\n",
      " 36\n",
      " pull\n",
      " aluminum\n",
      " style\n",
      " form\n",
      "Cluster 4:\n",
      " water\n",
      " air\n",
      " easy\n",
      " heater\n",
      " tank\n",
      " use\n",
      " gas\n",
      " temperature\n",
      " control\n",
      " cooling\n",
      "Cluster 5:\n",
      " insulation\n",
      " metal\n",
      " seal\n",
      " use\n",
      " ft\n",
      " roof\n",
      " attic\n",
      " water\n",
      " roofing\n",
      " provides\n",
      "Cluster 6:\n",
      " light\n",
      " watt\n",
      " power\n",
      " volt\n",
      " led\n",
      " 20\n",
      " depot\n",
      " plan\n",
      " bulbs\n",
      " bulb\n",
      "Cluster 7:\n",
      " wall\n",
      " storage\n",
      " shelves\n",
      " panels\n",
      " easy\n",
      " lbs\n",
      " adjustable\n",
      " finish\n",
      " space\n",
      " home\n",
      "Cluster 8:\n",
      " cooking\n",
      " oven\n",
      " door\n",
      " easy\n",
      " opening\n",
      " window\n",
      " porcelain\n",
      " cu\n",
      " burner\n",
      " nickel\n",
      "Cluster 9:\n",
      " wood\n",
      " paint\n",
      " concrete\n",
      " frame\n",
      " patio\n",
      " color\n",
      " stake\n",
      " outdoor\n",
      " steel\n",
      " resistant\n"
     ]
    }
   ],
   "source": [
    "def print_cluster(i):\n",
    "    print(\"Cluster %d:\" % i),\n",
    "    for ind in order_centroids[i, :10]:\n",
    "        print(' %s' % terms[ind])\n",
    "\n",
    "true_k = 10\n",
    "\n",
    "model = KMeans(n_clusters=true_k, init='k-means++', max_iter=100, n_init=1)\n",
    "model.fit(X)\n",
    "\n",
    "print(\"Top terms per cluster:\")\n",
    "order_centroids = model.cluster_centers_.argsort()[:, ::-1]\n",
    "terms = vectorizer.get_feature_names_out()\n",
    "\n",
    "for i in range(true_k):\n",
    "    print_cluster(i)    "
   ]
  },
  {
   "cell_type": "code",
   "execution_count": 7,
   "metadata": {},
   "outputs": [],
   "source": [
    "def show_recommendations(product): #recommendation based on product description\n",
    "    #print(\"Cluster ID:\")\n",
    "    Y = vectorizer.transform([product])\n",
    "    prediction = model.predict(Y)\n",
    "    #print(prediction)\n",
    "    print_cluster(prediction[0])"
   ]
  },
  {
   "cell_type": "code",
   "execution_count": 8,
   "metadata": {},
   "outputs": [
    {
     "name": "stdout",
     "output_type": "stream",
     "text": [
      "Cluster 5:\n",
      " insulation\n",
      " metal\n",
      " seal\n",
      " use\n",
      " ft\n",
      " roof\n",
      " attic\n",
      " water\n",
      " roofing\n",
      " provides\n"
     ]
    }
   ],
   "source": [
    "show_recommendations(\"cutting tool\")"
   ]
  },
  {
   "cell_type": "code",
   "execution_count": 9,
   "metadata": {},
   "outputs": [
    {
     "name": "stdout",
     "output_type": "stream",
     "text": [
      "Cluster 9:\n",
      " wood\n",
      " paint\n",
      " concrete\n",
      " frame\n",
      " patio\n",
      " color\n",
      " stake\n",
      " outdoor\n",
      " steel\n",
      " resistant\n"
     ]
    }
   ],
   "source": [
    "show_recommendations(\"spray paint\")"
   ]
  }
 ],
 "metadata": {
  "kernelspec": {
   "display_name": "venv",
   "language": "python",
   "name": "python3"
  },
  "language_info": {
   "codemirror_mode": {
    "name": "ipython",
    "version": 3
   },
   "file_extension": ".py",
   "mimetype": "text/x-python",
   "name": "python",
   "nbconvert_exporter": "python",
   "pygments_lexer": "ipython3",
   "version": "3.11.4"
  }
 },
 "nbformat": 4,
 "nbformat_minor": 2
}
