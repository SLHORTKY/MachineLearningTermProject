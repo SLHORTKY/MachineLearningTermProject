{
 "cells": [
  {
   "cell_type": "code",
   "execution_count": 16,
   "metadata": {},
   "outputs": [],
   "source": [
    "from sklearn.feature_extraction.text import TfidfVectorizer, CountVectorizer\n",
    "from sklearn.neighbors import NearestNeighbors\n",
    "from sklearn.cluster import KMeans\n",
    "from sklearn.metrics import adjusted_rand_score\n",
    "from sklearn.metrics import silhouette_score, davies_bouldin_score\n"
   ]
  },
  {
   "cell_type": "code",
   "execution_count": 9,
   "metadata": {},
   "outputs": [],
   "source": [
    "import os \n",
    "import sys\n",
    "import pandas as pd\n",
    "import matplotlib.pyplot as plt\n",
    "\n"
   ]
  },
  {
   "cell_type": "code",
   "execution_count": 10,
   "metadata": {},
   "outputs": [],
   "source": [
    "python_executable = os.path.abspath(sys.executable)\n",
    "venv_parent_dir = os.path.dirname(os.path.dirname(python_executable))\n",
    "\n",
    "\n",
    "data_path = \"../Data2/products.csv\"\n",
    "df = pd.read_csv(data_path)"
   ]
  },
  {
   "cell_type": "code",
   "execution_count": 11,
   "metadata": {},
   "outputs": [
    {
     "data": {
      "text/plain": [
       "0    Not only do angles make joints stronger, they ...\n",
       "1    BEHR Premium Textured DECKOVER is an innovativ...\n",
       "2    Classic architecture meets contemporary design...\n",
       "3    The Grape Solar 265-Watt Polycrystalline PV So...\n",
       "4    Update your bathroom with the Delta Vero Singl...\n",
       "5    Achieving delicious results is almost effortle...\n",
       "6    The Quantum Adjustable 2-Light LED Black Emerg...\n",
       "7    The Teks #10 x 1-1/2 in. Zinc-Plated Steel Was...\n",
       "8    Get the House of Fara 3/4 in. x 3 in. x 8 ft. ...\n",
       "9    Valley View Industries Metal Stakes (4-Pack) a...\n",
       "Name: product_description, dtype: object"
      ]
     },
     "execution_count": 11,
     "metadata": {},
     "output_type": "execute_result"
    }
   ],
   "source": [
    "products_df = df.dropna()\n",
    "\n",
    "products_df_sample = products_df.head(500)\n",
    "\n",
    "products_df_sample[\"product_description\"].head(10)"
   ]
  },
  {
   "cell_type": "code",
   "execution_count": 12,
   "metadata": {},
   "outputs": [
    {
     "data": {
      "image/png": "[encoded data removed]",
      "text/plain": [
       "<Figure size 640x480 with 1 Axes>"
      ]
     },
     "metadata": {},
     "output_type": "display_data"
    }
   ],
   "source": [
    "vectorizer = TfidfVectorizer(stop_words='english')\n",
    "X = vectorizer.fit_transform(products_df_sample[\"product_description\"])\n",
    "\n",
    "kmeans = KMeans(n_clusters = 10, init = 'k-means++')\n",
    "y_kmeans = kmeans.fit_predict(X)\n",
    "\n",
    "plt.plot(y_kmeans, \".\")\n",
    "plt.xlabel(\"numerical repr of product description\")\n",
    "plt.ylabel(\"clustering levels\")\n",
    "plt.title(\"Data Cluster KNN\")\n",
    "plt.show()"
   ]
  },
  {
   "cell_type": "code",
   "execution_count": 13,
   "metadata": {},
   "outputs": [
    {
     "name": "stdout",
     "output_type": "stream",
     "text": [
      "Top terms per cluster:\n",
      "Cluster 0:\n",
      " rug\n",
      " shades\n",
      " slightly\n",
      " order\n",
      " vary\n",
      " bamboo\n",
      " size\n",
      " blind\n",
      " dimensions\n",
      " natural\n",
      "Cluster 1:\n",
      " water\n",
      " toilet\n",
      " design\n",
      " flush\n",
      " bowl\n",
      " helps\n",
      " high\n",
      " help\n",
      " cover\n",
      " features\n",
      "Cluster 2:\n",
      " door\n",
      " 65\n",
      " proposition\n",
      " nbsp\n",
      " residents\n",
      " california\n",
      " painted\n",
      " primed\n",
      " wood\n",
      " match\n",
      "Cluster 3:\n",
      " door\n",
      " steel\n",
      " frame\n",
      " patio\n",
      " lbs\n",
      " shelf\n",
      " durable\n",
      " easy\n",
      " roof\n",
      " adjustable\n",
      "Cluster 4:\n",
      " cycle\n",
      " oven\n",
      " cooking\n",
      " cu\n",
      " wash\n",
      " steam\n",
      " ft\n",
      " drum\n",
      " clothes\n",
      " options\n",
      "Cluster 5:\n",
      " tape\n",
      " easy\n",
      " tool\n",
      " water\n",
      " pull\n",
      " duty\n",
      " handle\n",
      " heavy\n",
      " construction\n",
      " wheels\n",
      "Cluster 6:\n",
      " air\n",
      " power\n",
      " light\n",
      " water\n",
      " fan\n",
      " heater\n",
      " control\n",
      " watt\n",
      " cooling\n",
      " insulation\n",
      "Cluster 7:\n",
      " ft\n",
      " wood\n",
      " concrete\n",
      " stake\n",
      " 100\n",
      " vary\n",
      " store\n",
      " board\n",
      " product\n",
      " painting\n",
      "Cluster 8:\n",
      " wall\n",
      " finish\n",
      " use\n",
      " design\n",
      " tile\n",
      " piece\n",
      " easy\n",
      " ft\n",
      " water\n",
      " trim\n",
      "Cluster 9:\n",
      " light\n",
      " drill\n",
      " volt\n",
      " metal\n",
      " tool\n",
      " cutting\n",
      " lithium\n",
      " battery\n",
      " power\n",
      " max\n"
     ]
    }
   ],
   "source": [
    "def print_cluster(i):\n",
    "    print(\"Cluster %d:\" % i),\n",
    "    for ind in order_centroids[i, :10]:\n",
    "        print(' %s' % terms[ind])\n",
    "\n",
    "true_k = 10\n",
    "\n",
    "model = KMeans(n_clusters=true_k, init='k-means++', max_iter=100, n_init=1)\n",
    "model.fit(X)\n",
    "\n",
    "print(\"Top terms per cluster:\")\n",
    "order_centroids = model.cluster_centers_.argsort()[:, ::-1]\n",
    "terms = vectorizer.get_feature_names_out()\n",
    "\n",
    "for i in range(true_k):\n",
    "    print_cluster(i)    "
   ]
  },
  {
   "cell_type": "code",
   "execution_count": null,
   "metadata": {},
   "outputs": [],
   "source": [
    "\n"
   ]
  },
  {
   "cell_type": "code",
   "execution_count": null,
   "metadata": {},
   "outputs": [],
   "source": [
    "def show_recommendations(product): #recommendation based on product description\n",
    "    #print(\"Cluster ID:\")\n",
    "    Y = vectorizer.transform([product])\n",
    "    prediction = model.predict(Y)\n",
    "    #print(prediction)\n",
    "    print_cluster(prediction[0])"
   ]
  },
  {
   "cell_type": "code",
   "execution_count": null,
   "metadata": {},
   "outputs": [
    {
     "name": "stdout",
     "output_type": "stream",
     "text": [
      "Cluster 5:\n",
      " insulation\n",
      " metal\n",
      " seal\n",
      " use\n",
      " ft\n",
      " roof\n",
      " attic\n",
      " water\n",
      " roofing\n",
      " provides\n"
     ]
    }
   ],
   "source": [
    "show_recommendations(\"cutting tool\")"
   ]
  },
  {
   "cell_type": "code",
   "execution_count": null,
   "metadata": {},
   "outputs": [
    {
     "name": "stdout",
     "output_type": "stream",
     "text": [
      "Cluster 9:\n",
      " wood\n",
      " paint\n",
      " concrete\n",
      " frame\n",
      " patio\n",
      " color\n",
      " stake\n",
      " outdoor\n",
      " steel\n",
      " resistant\n"
     ]
    }
   ],
   "source": [
    "show_recommendations(\"spray paint\")"
   ]
  }
 ],
 "metadata": {
  "kernelspec": {
   "display_name": "venv",
   "language": "python",
   "name": "python3"
  },
  "language_info": {
   "codemirror_mode": {
    "name": "ipython",
    "version": 3
   },
   "file_extension": ".py",
   "mimetype": "text/x-python",
   "name": "python",
   "nbconvert_exporter": "python",
   "pygments_lexer": "ipython3",
   "version": "3.11.4"
  }
 },
 "nbformat": 4,
 "nbformat_minor": 2
}
